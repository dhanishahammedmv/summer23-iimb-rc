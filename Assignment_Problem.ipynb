{
  "nbformat": 4,
  "nbformat_minor": 0,
  "metadata": {
    "colab": {
      "provenance": []
    },
    "kernelspec": {
      "name": "python3",
      "display_name": "Python 3"
    },
    "language_info": {
      "name": "python"
    }
  },
  "cells": [
    {
      "cell_type": "markdown",
      "source": [
        "# The Assignment Problem\n",
        "\n",
        "There are $n$ people available to carry out $n$ jobs. Each person is assigned to carry out exactly one job. Some individuals are better suited to particular jobs than others, so there is an estimated cost $c_{ij}$ if person $i$ is assigned to job $j$. The problem is to find a minimum cost assignment.\n",
        "\n",
        "## Decision Variables\n",
        "\n",
        "$$\n",
        "x_{ij} =\n",
        "\\begin{cases}\n",
        "1 & \\text{if person } i \\text{ is assigned to job } j \\\\\n",
        "0 & \\text{otherwise}\n",
        "\\end{cases}\n",
        "$$\n",
        "\n",
        "## Constraints\n",
        "\n",
        "1. Each person does exactly one job:\n",
        "\n",
        "$$\n",
        "\\sum_{j=1}^{n} x_{ij} = 1 \\quad \\text{for } i = 1, \\ldots, n.\n",
        "$$\n",
        "\n",
        "2. Each job is done by exactly one person:\n",
        "\n",
        "$$\n",
        "\\sum_{i=1}^{n} x_{ij} = 1 \\quad \\text{for } j = 1, \\ldots, n.\n",
        "$$\n",
        "\n",
        "3. Binary constraints:\n",
        "\n",
        "$$\n",
        "x_{ij} \\in \\{0, 1\\} \\quad \\text{for } i = 1, \\ldots, n, \\ j = 1, \\ldots, n.\n",
        "$$\n",
        "\n",
        "## Objective Function\n",
        "\n",
        "Minimize the total assignment cost:\n",
        "\n",
        "$$\n",
        "\\min \\sum_{i=1}^{n} \\sum_{j=1}^{n} c_{ij} x_{ij}.\n",
        "$$\n",
        "\n",
        "## Complete Formulation\n",
        "\n",
        "$$\n",
        "\\begin{aligned}\n",
        "& \\min \\sum_{i=1}^{n} \\sum_{j=1}^{n} c_{ij} x_{ij} \\\\\n",
        "& \\text{subject to:} \\\\\n",
        "& \\quad \\sum_{j=1}^{n} x_{ij} = 1, \\quad i = 1, \\ldots, n \\\\\n",
        "& \\quad \\sum_{i=1}^{n} x_{ij} = 1, \\quad j = 1, \\ldots, n \\\\\n",
        "& \\quad x_{ij} \\in \\{0, 1\\}, \\quad i = 1, \\ldots, n, \\ j = 1, \\ldots, n\n",
        "\\end{aligned}\n",
        "$$\n"
      ],
      "metadata": {
        "id": "JckWPSS1aZr2"
      }
    },
    {
      "cell_type": "code",
      "source": [
        "import numpy as np\n",
        "from scipy.optimize import linear_sum_assignment\n",
        "import random"
      ],
      "metadata": {
        "id": "nM1-_rlsZXC3"
      },
      "execution_count": 1,
      "outputs": []
    },
    {
      "cell_type": "code",
      "source": [
        "cost_matrix = np.array([\n",
        "    [9, 2, 7, 8],\n",
        "    [6, 4, 3, 7],\n",
        "    [5, 8, 1, 8],\n",
        "    [7, 6, 9, 4]\n",
        "])\n",
        "\n",
        "print(\"Cost Matrix:\")\n",
        "print(cost_matrix)\n",
        "\n",
        "row_ind, col_ind = linear_sum_assignment(cost_matrix)\n",
        "print(\"\\nOptimal assignment:\")\n",
        "for r, c in zip(row_ind, col_ind):\n",
        "  print(f\"  Worker {r+1} → Job {c+1} (cost={cost_matrix[r, c]})\")\n",
        "print(f\"Total optimal cost: {cost_matrix[row_ind, col_ind].sum()}\\n\")"
      ],
      "metadata": {
        "colab": {
          "base_uri": "https://localhost:8080/"
        },
        "id": "HoZLeuZKZR17",
        "outputId": "4bf5dbd9-b87e-479d-9a02-c059a79144b2"
      },
      "execution_count": 2,
      "outputs": [
        {
          "output_type": "stream",
          "name": "stdout",
          "text": [
            "Cost Matrix:\n",
            "[[9 2 7 8]\n",
            " [6 4 3 7]\n",
            " [5 8 1 8]\n",
            " [7 6 9 4]]\n",
            "\n",
            "Optimal assignment:\n",
            "  Worker 1 → Job 2 (cost=2)\n",
            "  Worker 2 → Job 1 (cost=6)\n",
            "  Worker 3 → Job 3 (cost=1)\n",
            "  Worker 4 → Job 4 (cost=4)\n",
            "Total optimal cost: 13\n",
            "\n"
          ]
        }
      ]
    },
    {
      "cell_type": "code",
      "source": [
        "costs = {\n",
        "    \"W1\": {\"J1\": 9, \"J2\": 2, \"J3\": 7, \"J4\": 8},\n",
        "    \"W2\": {\"J1\": 6, \"J2\": 4, \"J3\": 3, \"J4\": 7},\n",
        "    \"W3\": {\"J1\": 5, \"J2\": 8, \"J3\": 1, \"J4\": 8},\n",
        "    \"W4\": {\"J1\": 7, \"J2\": 6, \"J3\": 9, \"J4\": 4},\n",
        "}\n",
        "\n",
        "workers = list(costs.keys())\n",
        "jobs = list(costs[workers[0]].keys())\n",
        "cost_matrix = np.array([[costs[w][j] for j in jobs] for w in workers])\n",
        "\n",
        "print(\"Cost Matrix (from dictionary):\")\n",
        "print(cost_matrix)\n",
        "\n",
        "row_ind, col_ind = linear_sum_assignment(cost_matrix)\n",
        "print(\"\\nOptimal assignment:\")\n",
        "for r, c in zip(row_ind, col_ind):\n",
        "  print(f\"  {workers[r]} → {jobs[c]} (cost={cost_matrix[r, c]})\")\n",
        "print(f\"Total optimal cost: {cost_matrix[row_ind, col_ind].sum()}\\n\")"
      ],
      "metadata": {
        "colab": {
          "base_uri": "https://localhost:8080/"
        },
        "id": "SbjIJmCmZUjk",
        "outputId": "b55698e3-7625-4810-9449-69b88b7bb05b"
      },
      "execution_count": 3,
      "outputs": [
        {
          "output_type": "stream",
          "name": "stdout",
          "text": [
            "Cost Matrix (from dictionary):\n",
            "[[9 2 7 8]\n",
            " [6 4 3 7]\n",
            " [5 8 1 8]\n",
            " [7 6 9 4]]\n",
            "\n",
            "Optimal assignment:\n",
            "  W1 → J2 (cost=2)\n",
            "  W2 → J1 (cost=6)\n",
            "  W3 → J3 (cost=1)\n",
            "  W4 → J4 (cost=4)\n",
            "Total optimal cost: 13\n",
            "\n"
          ]
        }
      ]
    },
    {
      "cell_type": "code",
      "execution_count": 4,
      "metadata": {
        "colab": {
          "base_uri": "https://localhost:8080/"
        },
        "id": "Yu7ZcbVfZO1J",
        "outputId": "07dc9adf-bb2a-48ac-dd04-38668cee7ddd"
      },
      "outputs": [
        {
          "output_type": "stream",
          "name": "stdout",
          "text": [
            "Number of workers/jobs: 8\n",
            "Cost Matrix:\n",
            "[[19  2 14 16 19  1  7 15]\n",
            " [16  9  6  2 17 16 11  3]\n",
            " [ 8 12  2 14  5 20 12 13]\n",
            " [14 10  9 15  6 10 12  5]\n",
            " [15  8 15 20 13  2 19  1]\n",
            " [ 8  5  7 10 18 12  8 11]\n",
            " [18 15 14 16  3 19 11 17]\n",
            " [ 6  8 14  8  2  2 16 10]]\n",
            "\n",
            "Optimal assignment:\n",
            "  Worker 1 → Job 2 (cost=2)\n",
            "  Worker 2 → Job 4 (cost=2)\n",
            "  Worker 3 → Job 3 (cost=2)\n",
            "  Worker 4 → Job 8 (cost=5)\n",
            "  Worker 5 → Job 6 (cost=2)\n",
            "  Worker 6 → Job 7 (cost=8)\n",
            "  Worker 7 → Job 5 (cost=3)\n",
            "  Worker 8 → Job 1 (cost=6)\n",
            "Total optimal cost: 30\n"
          ]
        }
      ],
      "source": [
        "n = 8   # number of workers/jobs\n",
        "random.seed(10)\n",
        "cost_matrix = np.array([[random.randint(1, 20) for _ in range(n)] for _ in range(n)])\n",
        "\n",
        "print(f\"Number of workers/jobs: {n}\")\n",
        "print(\"Cost Matrix:\")\n",
        "print(cost_matrix)\n",
        "\n",
        "row_ind, col_ind = linear_sum_assignment(cost_matrix)\n",
        "print(\"\\nOptimal assignment:\")\n",
        "for r, c in zip(row_ind, col_ind):\n",
        "  print(f\"  Worker {r+1} → Job {c+1} (cost={cost_matrix[r, c]})\")\n",
        "print(f\"Total optimal cost: {cost_matrix[row_ind, col_ind].sum()}\")"
      ]
    }
  ]
}