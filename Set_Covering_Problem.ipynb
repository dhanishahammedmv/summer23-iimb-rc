{
  "nbformat": 4,
  "nbformat_minor": 0,
  "metadata": {
    "colab": {
      "provenance": []
    },
    "kernelspec": {
      "name": "python3",
      "display_name": "Python 3"
    },
    "language_info": {
      "name": "python"
    }
  },
  "cells": [
    {
      "cell_type": "markdown",
      "source": [
        "# The Set Covering Problem\n",
        "\n",
        "Given a certain number of regions, the problem is to decide where to install a set of emergency service centers. For each possible center the cost of installing a service center, and which regions it can service are known. For instance, if the centers are fire stations, a station can service those regions for which a fire engine is guaranteed to arrive on the scene of a fire within 8 minutes. The goal is to choose a minimum cost set of service centers so that each region is covered.\n",
        "\n",
        "## Abstract Formulation\n",
        "\n",
        "Let \\( M = \\{1, \\ldots, m\\} \\) be the set of regions, and \\( N = \\{1, \\ldots, n\\} \\) the set of potential centers. Let \\( S_j \\subseteq M \\) be the regions that can be serviced by a center at \\( j \\in N \\), and \\( c_j \\) its installation cost. We obtain the problem:\n",
        "\n",
        "$$\n",
        "\\min_{T \\subseteq N} \\left\\{ \\sum_{j \\in T} c_j : \\bigcup_{j \\in T} S_j = M \\right\\}.\n",
        "$$\n",
        "\n",
        "## Binary Integer Programming Formulation\n",
        "\n",
        "To facilitate the description, we first construct a 0-1 incidence matrix \\( A \\) such that \\( a_{ij} = 1 \\) if \\( i \\in S_j \\), and \\( a_{ij} = 0 \\) otherwise. Note that this is data preprocessing.\n",
        "\n",
        "### Decision Variables\n",
        "\n",
        "$$\n",
        "x_j =\n",
        "\\begin{cases}\n",
        "1 & \\text{if center } j \\text{ is selected} \\\\\n",
        "0 & \\text{otherwise}\n",
        "\\end{cases}\n",
        "\\quad \\text{for } j = 1, \\ldots, n.\n",
        "$$\n",
        "\n",
        "### Constraints\n",
        "\n",
        "1. Each region must be covered by at least one service center:\n",
        "\n",
        "$$\n",
        "\\sum_{j=1}^{n} a_{ij} x_j \\geq 1 \\quad \\text{for } i = 1, \\ldots, m.\n",
        "$$\n",
        "\n",
        "2. Binary constraints:\n",
        "\n",
        "$$\n",
        "x_j \\in \\{0, 1\\} \\quad \\text{for } j = 1, \\ldots, n.\n",
        "$$\n",
        "\n",
        "### Objective Function\n",
        "\n",
        "Minimize the total installation cost:\n",
        "\n",
        "$$\n",
        "\\min \\sum_{j=1}^{n} c_j x_j.\n",
        "$$\n",
        "\n",
        "## Complete BIP Formulation\n",
        "\n",
        "$$\n",
        "\\begin{aligned}\n",
        "& \\min \\sum_{j=1}^{n} c_j x_j \\\\\n",
        "& \\text{subject to:} \\\\\n",
        "& \\quad \\sum_{j=1}^{n} a_{ij} x_j \\geq 1, \\quad i = 1, \\ldots, m \\\\\n",
        "& \\quad x_j \\in \\{0, 1\\}, \\quad j = 1, \\ldots, n\n",
        "\\end{aligned}\n",
        "$$\n"
      ],
      "metadata": {
        "id": "g8czdD3odofO"
      }
    },
    {
      "cell_type": "code",
      "source": [
        "!pip install gurobipy"
      ],
      "metadata": {
        "colab": {
          "base_uri": "https://localhost:8080/"
        },
        "id": "HVfPanQLcdBD",
        "outputId": "4d2c36aa-9398-46df-ec9e-2e8196730d78"
      },
      "execution_count": 3,
      "outputs": [
        {
          "output_type": "stream",
          "name": "stdout",
          "text": [
            "Collecting gurobipy\n",
            "  Downloading gurobipy-12.0.3-cp312-cp312-manylinux2014_x86_64.manylinux_2_17_x86_64.whl.metadata (16 kB)\n",
            "Downloading gurobipy-12.0.3-cp312-cp312-manylinux2014_x86_64.manylinux_2_17_x86_64.whl (14.3 MB)\n",
            "\u001b[2K   \u001b[90m━━━━━━━━━━━━━━━━━━━━━━━━━━━━━━━━━━━━━━━━\u001b[0m \u001b[32m14.3/14.3 MB\u001b[0m \u001b[31m102.4 MB/s\u001b[0m eta \u001b[36m0:00:00\u001b[0m\n",
            "\u001b[?25hInstalling collected packages: gurobipy\n",
            "Successfully installed gurobipy-12.0.3\n"
          ]
        }
      ]
    },
    {
      "cell_type": "code",
      "source": [
        "import gurobipy as gp\n",
        "from gurobipy import GRB\n",
        "import random"
      ],
      "metadata": {
        "id": "4uyDLuwecyfH"
      },
      "execution_count": 8,
      "outputs": []
    },
    {
      "cell_type": "code",
      "source": [
        "U = {1, 2, 3, 4, 5}\n",
        "subsets = [\n",
        "    (\"S1\", {1, 2, 3}, 3),\n",
        "    (\"S2\", {2, 4}, 2),\n",
        "    (\"S3\", {3, 4}, 2),\n",
        "    (\"S4\", {4, 5}, 1),\n",
        "]\n",
        "\n",
        "m = gp.Model(\"SetCovering\")\n",
        "x = m.addVars([s[0] for s in subsets], vtype=GRB.BINARY, name=\"x\")\n",
        "# Objective\n",
        "m.setObjective(gp.quicksum(cost * x[name] for name, _, cost in subsets), GRB.MINIMIZE)\n",
        "# Constraints: cover all elements\n",
        "for u in U:\n",
        "  m.addConstr(gp.quicksum(x[name] for name, subset, _ in subsets if u in subset) >= 1)\n",
        "\n",
        "m.optimize()\n",
        "\n",
        "print(\"Optimal cover:\")\n",
        "for name, subset, cost in subsets:\n",
        "  if x[name].X > 0.5:\n",
        "    print(f\"  {name} covers {subset}, cost={cost}\")\n",
        "print(\"Total cost:\", m.objVal, \"\\n\")"
      ],
      "metadata": {
        "colab": {
          "base_uri": "https://localhost:8080/"
        },
        "id": "6lqJyinCcqlp",
        "outputId": "fefdf7ea-141c-4817-d5f5-05d835068ec7"
      },
      "execution_count": 9,
      "outputs": [
        {
          "output_type": "stream",
          "name": "stdout",
          "text": [
            "Gurobi Optimizer version 12.0.3 build v12.0.3rc0 (linux64 - \"Ubuntu 22.04.4 LTS\")\n",
            "\n",
            "CPU model: Intel(R) Xeon(R) CPU @ 2.20GHz, instruction set [SSE2|AVX|AVX2]\n",
            "Thread count: 1 physical cores, 2 logical processors, using up to 2 threads\n",
            "\n",
            "Optimize a model with 5 rows, 4 columns and 9 nonzeros\n",
            "Model fingerprint: 0xd60daccf\n",
            "Variable types: 0 continuous, 4 integer (4 binary)\n",
            "Coefficient statistics:\n",
            "  Matrix range     [1e+00, 1e+00]\n",
            "  Objective range  [1e+00, 3e+00]\n",
            "  Bounds range     [1e+00, 1e+00]\n",
            "  RHS range        [1e+00, 1e+00]\n",
            "Found heuristic solution: objective 4.0000000\n",
            "Presolve removed 5 rows and 4 columns\n",
            "Presolve time: 0.00s\n",
            "Presolve: All rows and columns removed\n",
            "\n",
            "Explored 0 nodes (0 simplex iterations) in 0.01 seconds (0.00 work units)\n",
            "Thread count was 1 (of 2 available processors)\n",
            "\n",
            "Solution count 1: 4 \n",
            "\n",
            "Optimal solution found (tolerance 1.00e-04)\n",
            "Best objective 4.000000000000e+00, best bound 4.000000000000e+00, gap 0.0000%\n",
            "Optimal cover:\n",
            "  S1 covers {1, 2, 3}, cost=3\n",
            "  S4 covers {4, 5}, cost=1\n",
            "Total cost: 4.0 \n",
            "\n"
          ]
        }
      ]
    },
    {
      "cell_type": "code",
      "source": [
        "U = {1, 2, 3, 4, 5}\n",
        "subsets = {\n",
        "    \"S1\": {\"elements\": {1, 2, 3}, \"cost\": 3},\n",
        "    \"S2\": {\"elements\": {2, 4}, \"cost\": 2},\n",
        "    \"S3\": {\"elements\": {3, 4}, \"cost\": 2},\n",
        "    \"S4\": {\"elements\": {4, 5}, \"cost\": 1},\n",
        "}\n",
        "\n",
        "m = gp.Model(\"SetCovering\")\n",
        "x = m.addVars(subsets.keys(), vtype=GRB.BINARY, name=\"x\")\n",
        "m.setObjective(gp.quicksum(subsets[name][\"cost\"] * x[name] for name in subsets), GRB.MINIMIZE)\n",
        "for u in U:\n",
        "  m.addConstr(gp.quicksum(x[name] for name in subsets if u in subsets[name][\"elements\"]) >= 1)\n",
        "m.optimize()\n",
        "\n",
        "print(\"Optimal cover:\")\n",
        "for name in subsets:\n",
        "  if x[name].X > 0.5:\n",
        "    print(f\"  {name} covers {subsets[name]['elements']}, cost={subsets[name]['cost']}\")\n",
        "print(\"Total cost:\", m.objVal, \"\\n\")"
      ],
      "metadata": {
        "colab": {
          "base_uri": "https://localhost:8080/"
        },
        "id": "slKM39o2dIEj",
        "outputId": "44e4471b-3213-498d-9bdd-cd3b8ecaf985"
      },
      "execution_count": 10,
      "outputs": [
        {
          "output_type": "stream",
          "name": "stdout",
          "text": [
            "Gurobi Optimizer version 12.0.3 build v12.0.3rc0 (linux64 - \"Ubuntu 22.04.4 LTS\")\n",
            "\n",
            "CPU model: Intel(R) Xeon(R) CPU @ 2.20GHz, instruction set [SSE2|AVX|AVX2]\n",
            "Thread count: 1 physical cores, 2 logical processors, using up to 2 threads\n",
            "\n",
            "Optimize a model with 5 rows, 4 columns and 9 nonzeros\n",
            "Model fingerprint: 0xd60daccf\n",
            "Variable types: 0 continuous, 4 integer (4 binary)\n",
            "Coefficient statistics:\n",
            "  Matrix range     [1e+00, 1e+00]\n",
            "  Objective range  [1e+00, 3e+00]\n",
            "  Bounds range     [1e+00, 1e+00]\n",
            "  RHS range        [1e+00, 1e+00]\n",
            "Found heuristic solution: objective 4.0000000\n",
            "Presolve removed 5 rows and 4 columns\n",
            "Presolve time: 0.00s\n",
            "Presolve: All rows and columns removed\n",
            "\n",
            "Explored 0 nodes (0 simplex iterations) in 0.01 seconds (0.00 work units)\n",
            "Thread count was 1 (of 2 available processors)\n",
            "\n",
            "Solution count 1: 4 \n",
            "\n",
            "Optimal solution found (tolerance 1.00e-04)\n",
            "Best objective 4.000000000000e+00, best bound 4.000000000000e+00, gap 0.0000%\n",
            "Optimal cover:\n",
            "  S1 covers {1, 2, 3}, cost=3\n",
            "  S4 covers {4, 5}, cost=1\n",
            "Total cost: 4.0 \n",
            "\n"
          ]
        }
      ]
    },
    {
      "cell_type": "code",
      "source": [
        "n_elements = 10\n",
        "n_subsets = 8\n",
        "U = set(range(1, n_elements + 1))\n",
        "random.seed(10)\n",
        "subsets = []\n",
        "for i in range(n_subsets):\n",
        "  elements = set(random.sample(range(1, n_elements + 1), random.randint(2, 5)))\n",
        "  cost = random.randint(1, 10)\n",
        "  subsets.append((f\"S{i+1}\", elements, cost))\n",
        "m = gp.Model(\"SetCovering\")\n",
        "x = m.addVars([s[0] for s in subsets], vtype=GRB.BINARY, name=\"x\")\n",
        "m.setObjective(gp.quicksum(cost * x[name] for name, _, cost in subsets), GRB.MINIMIZE)\n",
        "for u in U:\n",
        "  m.addConstr(gp.quicksum(x[name] for name, subset, _ in subsets if u in subset) >= 1)\n",
        "m.optimize()\n",
        "\n",
        "print(\"Universe:\", U)\n",
        "print(\"Subsets:\")\n",
        "for name, subset, cost in subsets:\n",
        "  print(f\"  {name}: covers {subset}, cost={cost}\")\n",
        "print(\"\\nOptimal cover:\")\n",
        "for name, subset, cost in subsets:\n",
        "  if x[name].X > 0.5:\n",
        "    print(f\"  {name} covers {subset}, cost={cost}\")\n",
        "print(\"Total cost:\", m.objVal)"
      ],
      "metadata": {
        "colab": {
          "base_uri": "https://localhost:8080/"
        },
        "id": "3eEDqHnGdFGP",
        "outputId": "c277994e-bc7c-43c1-ec47-ac6d561b1c25"
      },
      "execution_count": 11,
      "outputs": [
        {
          "output_type": "stream",
          "name": "stdout",
          "text": [
            "Gurobi Optimizer version 12.0.3 build v12.0.3rc0 (linux64 - \"Ubuntu 22.04.4 LTS\")\n",
            "\n",
            "CPU model: Intel(R) Xeon(R) CPU @ 2.20GHz, instruction set [SSE2|AVX|AVX2]\n",
            "Thread count: 1 physical cores, 2 logical processors, using up to 2 threads\n",
            "\n",
            "Optimize a model with 10 rows, 8 columns and 28 nonzeros\n",
            "Model fingerprint: 0x0f9f7796\n",
            "Variable types: 0 continuous, 8 integer (8 binary)\n",
            "Coefficient statistics:\n",
            "  Matrix range     [1e+00, 1e+00]\n",
            "  Objective range  [2e+00, 1e+01]\n",
            "  Bounds range     [1e+00, 1e+00]\n",
            "  RHS range        [1e+00, 1e+00]\n",
            "Found heuristic solution: objective 13.0000000\n",
            "Presolve removed 10 rows and 8 columns\n",
            "Presolve time: 0.00s\n",
            "Presolve: All rows and columns removed\n",
            "\n",
            "Explored 0 nodes (0 simplex iterations) in 0.01 seconds (0.00 work units)\n",
            "Thread count was 1 (of 2 available processors)\n",
            "\n",
            "Solution count 2: 11 13 \n",
            "\n",
            "Optimal solution found (tolerance 1.00e-04)\n",
            "Best objective 1.100000000000e+01, best bound 1.100000000000e+01, gap 0.0000%\n",
            "Universe: {1, 2, 3, 4, 5, 6, 7, 8, 9, 10}\n",
            "Subsets:\n",
            "  S1: covers {8, 7}, cost=10\n",
            "  S2: covers {8, 4}, cost=8\n",
            "  S3: covers {8, 1, 10, 3}, cost=2\n",
            "  S4: covers {1, 6, 7}, cost=3\n",
            "  S5: covers {9, 10, 5, 7}, cost=5\n",
            "  S6: covers {2, 3, 4, 5, 6}, cost=4\n",
            "  S7: covers {1, 5, 7, 8, 10}, cost=4\n",
            "  S8: covers {4, 5, 6}, cost=4\n",
            "\n",
            "Optimal cover:\n",
            "  S3 covers {8, 1, 10, 3}, cost=2\n",
            "  S5 covers {9, 10, 5, 7}, cost=5\n",
            "  S6 covers {2, 3, 4, 5, 6}, cost=4\n",
            "Total cost: 11.0\n"
          ]
        }
      ]
    }
  ]
}