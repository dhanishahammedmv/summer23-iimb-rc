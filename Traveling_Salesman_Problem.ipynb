{
  "nbformat": 4,
  "nbformat_minor": 0,
  "metadata": {
    "colab": {
      "provenance": []
    },
    "kernelspec": {
      "name": "python3",
      "display_name": "Python 3"
    },
    "language_info": {
      "name": "python"
    }
  },
  "cells": [
    {
      "cell_type": "markdown",
      "source": [
        "# The Traveling Salesman Problem (TSP)\n",
        "\n",
        "This is perhaps the most notorious problem in Operations Research because it is so easy to explain, and so tempting to try and solve. A salesman must visit each of $n$ cities exactly once and then return to his starting point. The time taken to travel from city $i$ to city $j$ is $c_{ij}$. Find the order in which he should make his tour as short as possible.\n",
        "\n",
        "This problem arises in a multitude of forms: a truck driver has a list of clients he must visit on a given day, or a machine must place modules on printed circuit boards, or a stacker crane must pick up and deposit crates. Now we formulate it as a Binary Integer Program (BIP).\n",
        "\n",
        "## Decision Variables\n",
        "\n",
        "$$\n",
        "x_{ij} =\n",
        "\\begin{cases}\n",
        "1 & \\text{if the salesman goes directly from city } i \\text{ to city } j \\\\\n",
        "0 & \\text{otherwise}\n",
        "\\end{cases}\n",
        "\\quad \\text{for } i,j = 1,\\ldots,n, i \\neq j.\n",
        "$$\n",
        "\n",
        "## Constraints\n",
        "\n",
        "1. The salesman leaves each city exactly once:\n",
        "\n",
        "$$\n",
        "\\sum_{\\substack{j=1 \\\\ j \\neq i}}^{n} x_{ij} = 1 \\quad \\text{for } i = 1,\\ldots,n.\n",
        "$$\n",
        "\n",
        "2. The salesman arrives at each city exactly once:\n",
        "\n",
        "$$\n",
        "\\sum_{\\substack{i=1 \\\\ i \\neq j}}^{n} x_{ij} = 1 \\quad \\text{for } j = 1,\\ldots,n.\n",
        "$$\n",
        "\n",
        "3. Subtour elimination constraints (to ensure a single complete tour):\n",
        "\n",
        "$$\n",
        "\\sum_{i \\in S} \\sum_{j \\notin S} x_{ij} \\geq 1 \\quad \\text{for all } S \\subset N, S \\neq \\emptyset.\n",
        "$$\n",
        "\n",
        "Alternatively, using the Dantzig-Fulkerson-Johnson formulation:\n",
        "\n",
        "$$\n",
        "\\sum_{i \\in S} \\sum_{j \\in S} x_{ij} \\leq |S| - 1 \\quad \\text{for all } S \\subset N, 2 \\leq |S| \\leq n-1.\n",
        "$$\n",
        "\n",
        "4. Binary constraints:\n",
        "\n",
        "$$\n",
        "x_{ij} \\in \\{0, 1\\} \\quad \\text{for } i,j = 1,\\ldots,n, i \\neq j.\n",
        "$$\n",
        "\n",
        "## Objective Function\n",
        "\n",
        "Minimize the total travel time:\n",
        "\n",
        "$$\n",
        "\\min \\sum_{i=1}^{n} \\sum_{\\substack{j=1 \\\\ j \\neq i}}^{n} c_{ij} x_{ij}.\n",
        "$$\n",
        "\n",
        "## Complete BIP Formulation\n",
        "\n",
        "$$\n",
        "\\begin{aligned}\n",
        "& \\min \\sum_{i=1}^{n} \\sum_{\\substack{j=1 \\\\ j \\neq i}}^{n} c_{ij} x_{ij} \\\\\n",
        "& \\text{subject to:} \\\\\n",
        "& \\quad \\sum_{\\substack{j=1 \\\\ j \\neq i}}^{n} x_{ij} = 1, \\quad i = 1,\\ldots,n \\\\\n",
        "& \\quad \\sum_{\\substack{i=1 \\\\ i \\neq j}}^{n} x_{ij} = 1, \\quad j = 1,\\ldots,n \\\\\n",
        "& \\quad \\sum_{i \\in S} \\sum_{j \\in S} x_{ij} \\leq |S| - 1, \\quad \\text{for all } S \\subset N, 2 \\leq |S| \\leq n-1 \\\\\n",
        "& \\quad x_{ij} \\in \\{0, 1\\}, \\quad i,j = 1,\\ldots,n, i \\neq j\n",
        "\\end{aligned}\n",
        "$$\n"
      ],
      "metadata": {
        "id": "4J7xCLYHewSk"
      }
    },
    {
      "cell_type": "code",
      "execution_count": 1,
      "metadata": {
        "colab": {
          "base_uri": "https://localhost:8080/"
        },
        "id": "ZIBQ0RHzd76B",
        "outputId": "0976d8c9-83b2-4196-a110-90641f1112d6"
      },
      "outputs": [
        {
          "output_type": "stream",
          "name": "stdout",
          "text": [
            "Collecting gurobipy\n",
            "  Downloading gurobipy-12.0.3-cp312-cp312-manylinux2014_x86_64.manylinux_2_17_x86_64.whl.metadata (16 kB)\n",
            "Downloading gurobipy-12.0.3-cp312-cp312-manylinux2014_x86_64.manylinux_2_17_x86_64.whl (14.3 MB)\n",
            "\u001b[2K   \u001b[90m━━━━━━━━━━━━━━━━━━━━━━━━━━━━━━━━━━━━━━━━\u001b[0m \u001b[32m14.3/14.3 MB\u001b[0m \u001b[31m88.2 MB/s\u001b[0m eta \u001b[36m0:00:00\u001b[0m\n",
            "\u001b[?25hInstalling collected packages: gurobipy\n",
            "Successfully installed gurobipy-12.0.3\n"
          ]
        }
      ],
      "source": [
        "!pip install gurobipy"
      ]
    },
    {
      "cell_type": "code",
      "source": [
        "import gurobipy as gp\n",
        "from gurobipy import GRB\n",
        "import itertools\n",
        "import random\n",
        "import math"
      ],
      "metadata": {
        "id": "R-SC14v3eGnz"
      },
      "execution_count": 2,
      "outputs": []
    },
    {
      "cell_type": "code",
      "source": [
        "cities = [\"A\", \"B\", \"C\", \"D\"]\n",
        "distances = {\n",
        "    (\"A\", \"B\"): 10, (\"A\", \"C\"): 15, (\"A\", \"D\"): 20,\n",
        "    (\"B\", \"C\"): 35, (\"B\", \"D\"): 25,\n",
        "    (\"C\", \"D\"): 30\n",
        "}\n",
        "# Symmetric completion\n",
        "for (i, j), d in list(distances.items()):\n",
        "  distances[(j, i)] = d\n",
        "\n",
        "m = gp.Model(\"TSP\")\n",
        "x = m.addVars(distances.keys(), vtype=GRB.BINARY, name=\"x\")\n",
        "m.setObjective(gp.quicksum(distances[i, j] * x[i, j] for (i, j) in distances), GRB.MINIMIZE) # Objective\n",
        "\"\"\"Constraints: each city has exactly one in and one out\"\"\"\n",
        "for k in cities:\n",
        "  m.addConstr(gp.quicksum(x[i, j] for (i, j) in distances if i == k) == 1)\n",
        "  m.addConstr(gp.quicksum(x[i, j] for (i, j) in distances if j == k) == 1)\n",
        "m.optimize()\n",
        "\n",
        "print(\"Tour edges:\")\n",
        "edges = [(i, j) for (i, j) in distances if x[i, j].X > 0.5]\n",
        "print(edges)\n",
        "print(\"Total cost:\", m.objVal, \"\\n\")"
      ],
      "metadata": {
        "colab": {
          "base_uri": "https://localhost:8080/"
        },
        "id": "FG0951rGeK0X",
        "outputId": "db0145e9-3bce-4141-aec6-a6b576a2c0d8"
      },
      "execution_count": 3,
      "outputs": [
        {
          "output_type": "stream",
          "name": "stdout",
          "text": [
            "Restricted license - for non-production use only - expires 2026-11-23\n",
            "Gurobi Optimizer version 12.0.3 build v12.0.3rc0 (linux64 - \"Ubuntu 22.04.4 LTS\")\n",
            "\n",
            "CPU model: Intel(R) Xeon(R) CPU @ 2.20GHz, instruction set [SSE2|AVX|AVX2]\n",
            "Thread count: 1 physical cores, 2 logical processors, using up to 2 threads\n",
            "\n",
            "Optimize a model with 8 rows, 12 columns and 24 nonzeros\n",
            "Model fingerprint: 0xc6b885b3\n",
            "Variable types: 0 continuous, 12 integer (12 binary)\n",
            "Coefficient statistics:\n",
            "  Matrix range     [1e+00, 1e+00]\n",
            "  Objective range  [1e+01, 4e+01]\n",
            "  Bounds range     [1e+00, 1e+00]\n",
            "  RHS range        [1e+00, 1e+00]\n",
            "Found heuristic solution: objective 95.0000000\n",
            "Presolve time: 0.00s\n",
            "Presolved: 8 rows, 12 columns, 24 nonzeros\n",
            "Variable types: 0 continuous, 12 integer (12 binary)\n",
            "\n",
            "Root relaxation: objective 8.000000e+01, 8 iterations, 0.00 seconds (0.00 work units)\n",
            "\n",
            "    Nodes    |    Current Node    |     Objective Bounds      |     Work\n",
            " Expl Unexpl |  Obj  Depth IntInf | Incumbent    BestBd   Gap | It/Node Time\n",
            "\n",
            "*    0     0               0      80.0000000   80.00000  0.00%     -    0s\n",
            "\n",
            "Explored 1 nodes (8 simplex iterations) in 0.02 seconds (0.00 work units)\n",
            "Thread count was 2 (of 2 available processors)\n",
            "\n",
            "Solution count 2: 80 95 \n",
            "\n",
            "Optimal solution found (tolerance 1.00e-04)\n",
            "Best objective 8.000000000000e+01, best bound 8.000000000000e+01, gap 0.0000%\n",
            "Tour edges:\n",
            "[('A', 'B'), ('B', 'D'), ('C', 'A'), ('D', 'C')]\n",
            "Total cost: 80.0 \n",
            "\n"
          ]
        }
      ]
    },
    {
      "cell_type": "code",
      "source": [
        "cities = [\"W\", \"X\", \"Y\", \"Z\"]\n",
        "distances = {\n",
        "    \"W\": {\"X\": 12, \"Y\": 10, \"Z\": 19},\n",
        "    \"X\": {\"W\": 12, \"Y\": 3, \"Z\": 7},\n",
        "    \"Y\": {\"W\": 10, \"X\": 3, \"Z\": 6},\n",
        "    \"Z\": {\"W\": 19, \"X\": 7, \"Y\": 6},\n",
        "}\n",
        "\n",
        "pairs = [(i, j) for i in cities for j in cities if i != j]\n",
        "m = gp.Model(\"TSP_dict\")\n",
        "x = m.addVars(pairs, vtype=GRB.BINARY, name=\"x\")\n",
        "m.setObjective(gp.quicksum(distances[i][j] * x[i, j] for (i, j) in pairs), GRB.MINIMIZE)\n",
        "for k in cities:\n",
        "  m.addConstr(gp.quicksum(x[i, j] for (i, j) in pairs if i == k) == 1)\n",
        "  m.addConstr(gp.quicksum(x[i, j] for (i, j) in pairs if j == k) == 1)\n",
        "m.optimize()\n",
        "\n",
        "print(\"Tour edges:\")\n",
        "edges = [(i, j) for (i, j) in pairs if x[i, j].X > 0.5]\n",
        "print(edges)\n",
        "print(\"Total cost:\", m.objVal, \"\\n\")"
      ],
      "metadata": {
        "colab": {
          "base_uri": "https://localhost:8080/"
        },
        "id": "W8F4x_p-eEIQ",
        "outputId": "c7ae86cc-b981-4306-eb3a-ffc520056759"
      },
      "execution_count": 4,
      "outputs": [
        {
          "output_type": "stream",
          "name": "stdout",
          "text": [
            "Gurobi Optimizer version 12.0.3 build v12.0.3rc0 (linux64 - \"Ubuntu 22.04.4 LTS\")\n",
            "\n",
            "CPU model: Intel(R) Xeon(R) CPU @ 2.20GHz, instruction set [SSE2|AVX|AVX2]\n",
            "Thread count: 1 physical cores, 2 logical processors, using up to 2 threads\n",
            "\n",
            "Optimize a model with 8 rows, 12 columns and 24 nonzeros\n",
            "Model fingerprint: 0x607b794c\n",
            "Variable types: 0 continuous, 12 integer (12 binary)\n",
            "Coefficient statistics:\n",
            "  Matrix range     [1e+00, 1e+00]\n",
            "  Objective range  [3e+00, 2e+01]\n",
            "  Bounds range     [1e+00, 1e+00]\n",
            "  RHS range        [1e+00, 1e+00]\n",
            "Found heuristic solution: objective 36.0000000\n",
            "Presolve time: 0.00s\n",
            "Presolved: 8 rows, 12 columns, 24 nonzeros\n",
            "Variable types: 0 continuous, 12 integer (12 binary)\n",
            "\n",
            "Root relaxation: objective 3.400000e+01, 6 iterations, 0.00 seconds (0.00 work units)\n",
            "\n",
            "    Nodes    |    Current Node    |     Objective Bounds      |     Work\n",
            " Expl Unexpl |  Obj  Depth IntInf | Incumbent    BestBd   Gap | It/Node Time\n",
            "\n",
            "*    0     0               0      34.0000000   34.00000  0.00%     -    0s\n",
            "\n",
            "Explored 1 nodes (6 simplex iterations) in 0.02 seconds (0.00 work units)\n",
            "Thread count was 2 (of 2 available processors)\n",
            "\n",
            "Solution count 2: 34 36 \n",
            "\n",
            "Optimal solution found (tolerance 1.00e-04)\n",
            "Best objective 3.400000000000e+01, best bound 3.400000000000e+01, gap 0.0000%\n",
            "Tour edges:\n",
            "[('W', 'Y'), ('X', 'Z'), ('Y', 'W'), ('Z', 'X')]\n",
            "Total cost: 34.0 \n",
            "\n"
          ]
        }
      ]
    },
    {
      "cell_type": "code",
      "source": [
        "n = 6\n",
        "random.seed(10)\n",
        "cities = [f\"C{i+1}\" for i in range(n)]\n",
        "coords = {c: (random.randint(0, 20), random.randint(0, 20)) for c in cities}\n",
        "distances = {}\n",
        "for i, j in itertools.permutations(cities, 2):\n",
        "  xi, yi = coords[i]\n",
        "  xj, yj = coords[j]\n",
        "  distances[(i, j)] = math.dist((xi, yi), (xj, yj))\n",
        "m = gp.Model(\"TSP_large\")\n",
        "x = m.addVars(distances.keys(), vtype=GRB.BINARY, name=\"x\")\n",
        "m.setObjective(gp.quicksum(distances[i, j] * x[i, j] for (i, j) in distances), GRB.MINIMIZE)\n",
        "for k in cities:\n",
        "  m.addConstr(gp.quicksum(x[i, j] for (i, j) in distances if i == k) == 1)\n",
        "  m.addConstr(gp.quicksum(x[i, j] for (i, j) in distances if j == k) == 1)\n",
        "m.optimize()\n",
        "\n",
        "print(\"City coordinates:\")\n",
        "for c, (xpos, ypos) in coords.items():\n",
        "  print(f\"  {c}: ({xpos}, {ypos})\")\n",
        "\n",
        "print(\"\\nTour edges:\")\n",
        "edges = [(i, j) for (i, j) in distances if x[i, j].X > 0.5]\n",
        "print(edges)\n",
        "print(\"Total cost:\", m.objVal)"
      ],
      "metadata": {
        "colab": {
          "base_uri": "https://localhost:8080/"
        },
        "id": "fGIFwn9BekVe",
        "outputId": "a212123b-b90c-4676-e7a7-fa3062ad9ae8"
      },
      "execution_count": 5,
      "outputs": [
        {
          "output_type": "stream",
          "name": "stdout",
          "text": [
            "Gurobi Optimizer version 12.0.3 build v12.0.3rc0 (linux64 - \"Ubuntu 22.04.4 LTS\")\n",
            "\n",
            "CPU model: Intel(R) Xeon(R) CPU @ 2.20GHz, instruction set [SSE2|AVX|AVX2]\n",
            "Thread count: 1 physical cores, 2 logical processors, using up to 2 threads\n",
            "\n",
            "Optimize a model with 12 rows, 30 columns and 60 nonzeros\n",
            "Model fingerprint: 0x62b6071f\n",
            "Variable types: 0 continuous, 30 integer (30 binary)\n",
            "Coefficient statistics:\n",
            "  Matrix range     [1e+00, 1e+00]\n",
            "  Objective range  [1e+00, 2e+01]\n",
            "  Bounds range     [1e+00, 1e+00]\n",
            "  RHS range        [1e+00, 1e+00]\n",
            "Found heuristic solution: objective 70.2039969\n",
            "Presolve time: 0.00s\n",
            "Presolved: 12 rows, 30 columns, 60 nonzeros\n",
            "Variable types: 0 continuous, 30 integer (30 binary)\n",
            "\n",
            "Root relaxation: objective 2.780404e+01, 13 iterations, 0.00 seconds (0.00 work units)\n",
            "\n",
            "    Nodes    |    Current Node    |     Objective Bounds      |     Work\n",
            " Expl Unexpl |  Obj  Depth IntInf | Incumbent    BestBd   Gap | It/Node Time\n",
            "\n",
            "*    0     0               0      27.8040394   27.80404  0.00%     -    0s\n",
            "\n",
            "Explored 1 nodes (13 simplex iterations) in 0.02 seconds (0.00 work units)\n",
            "Thread count was 2 (of 2 available processors)\n",
            "\n",
            "Solution count 2: 27.804 70.204 \n",
            "\n",
            "Optimal solution found (tolerance 1.00e-04)\n",
            "Best objective 2.780403941342e+01, best bound 2.780403941342e+01, gap 0.0000%\n",
            "City coordinates:\n",
            "  C1: (18, 1)\n",
            "  C2: (13, 15)\n",
            "  C3: (18, 0)\n",
            "  C4: (6, 14)\n",
            "  C5: (15, 8)\n",
            "  C6: (20, 5)\n",
            "\n",
            "Tour edges:\n",
            "[('C1', 'C3'), ('C2', 'C4'), ('C3', 'C1'), ('C4', 'C2'), ('C5', 'C6'), ('C6', 'C5')]\n",
            "Total cost: 27.80403941342155\n"
          ]
        }
      ]
    }
  ]
}