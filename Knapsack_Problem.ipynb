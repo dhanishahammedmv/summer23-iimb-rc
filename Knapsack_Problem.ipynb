{
  "nbformat": 4,
  "nbformat_minor": 0,
  "metadata": {
    "colab": {
      "provenance": []
    },
    "kernelspec": {
      "name": "python3",
      "display_name": "Python 3"
    },
    "language_info": {
      "name": "python"
    }
  },
  "cells": [
    {
      "cell_type": "markdown",
      "source": [
        "# 0-1 Knapsack Problem\n",
        "\n",
        "## Problem Description\n",
        "\n",
        "There is a budget $b$ available for investment in projects during the coming year, and $n$ projects are under consideration. Let $a_j$ be the outlay for project $j$, and $c_j$ its expected return. The goal is to choose a set of projects so that the budget is not exceeded and the expected return is maximized.\n",
        "\n",
        "## Decision Variables\n",
        "\n",
        "$$\n",
        "x_j =\n",
        "\\begin{cases}\n",
        "1 & \\text{if project } j \\text{ is selected} \\\\\n",
        "0 & \\text{otherwise}\n",
        "\\end{cases}\n",
        "\\quad \\text{for } j = 1, \\ldots, n\n",
        "$$\n",
        "\n",
        "## Constraints\n",
        "\n",
        "1. **Budget constraint**: The total cost cannot exceed the available budget\n",
        "\n",
        "$$\n",
        "\\sum_{j=1}^{n} a_j x_j \\leq b\n",
        "$$\n",
        "\n",
        "2. **Binary variables**:\n",
        "\n",
        "$$\n",
        "x_j \\in \\{0, 1\\} \\quad \\text{for } j = 1, \\ldots, n\n",
        "$$\n",
        "\n",
        "## Objective Function\n",
        "\n",
        "Maximize the total expected return:\n",
        "\n",
        "$$\n",
        "\\max \\sum_{j=1}^{n} c_j x_j\n",
        "$$\n",
        "\n",
        "## Complete Formulation\n",
        "\n",
        "$$\n",
        "\\begin{aligned}\n",
        "& \\max \\sum_{j=1}^{n} c_j x_j \\\\\n",
        "& \\text{subject to:} \\\\\n",
        "& \\quad \\sum_{j=1}^{n} a_j x_j \\leq b \\\\\n",
        "& \\quad x_j \\in \\{0,1\\}, \\quad j = 1,\\ldots,n\n",
        "\\end{aligned}\n",
        "$$\n"
      ],
      "metadata": {
        "id": "TwBvb9UkVTAE"
      }
    },
    {
      "cell_type": "code",
      "source": [
        "import numpy as np\n",
        "import random"
      ],
      "metadata": {
        "id": "CQIGt49oaHhv"
      },
      "execution_count": 11,
      "outputs": []
    },
    {
      "cell_type": "code",
      "execution_count": 12,
      "metadata": {
        "colab": {
          "base_uri": "https://localhost:8080/"
        },
        "id": "L3nDilLfUgNH",
        "outputId": "6594c06b-6f04-4918-abc7-494b78afa758"
      },
      "outputs": [
        {
          "output_type": "stream",
          "name": "stdout",
          "text": [
            "Items: [('Book', 'w=2, v=3'), ('Water', 'w=3, v=4'), ('Food', 'w=4, v=5'), ('Clothes', 'w=5, v=6')]\n",
            "Knapsack capacity: 8\n",
            "\n",
            "Optimal value: 10\n",
            "Selected items:\n",
            "  Clothes (weight=5, value=6)\n",
            "  Water (weight=3, value=4)\n"
          ]
        }
      ],
      "source": [
        "\"\"\"items = [(item, wieght, value)]\"\"\"\n",
        "items = [(\"Book\", 2, 3), (\"Water\", 3, 4), (\"Food\", 4, 5), (\"Clothes\", 5, 6),]\n",
        "capacity = 8\n",
        "\n",
        "print(f\"Items: {[(name, f'w={w}, v={v}') for name, w, v in items]}\")\n",
        "print(f\"Knapsack capacity: {capacity}\\n\")\n",
        "\n",
        "#Dynamic Programming solution\n",
        "n = len(items)\n",
        "dp = [[0 for _ in range(capacity + 1)] for _ in range(n + 1)]\n",
        "for i in range(1, n + 1):\n",
        "  name, weight, value = items[i-1]\n",
        "  for w in range(capacity + 1):\n",
        "    if weight <= w:\n",
        "      dp[i][w] = max(dp[i-1][w], dp[i-1][w-weight] + value)\n",
        "    else:\n",
        "      dp[i][w] = dp[i-1][w]\n",
        "\n",
        "#Backtrack to find selected items\n",
        "selected = []\n",
        "w = capacity\n",
        "for i in range(n, 0, -1):\n",
        "  if dp[i][w] != dp[i-1][w]:\n",
        "    selected.append(items[i-1])\n",
        "    w -= items[i-1][1]\n",
        "\n",
        "print(f\"Optimal value: {dp[n][capacity]}\")\n",
        "print(\"Selected items:\")\n",
        "for name, weight, value in selected:\n",
        "  print(f\"  {name} (weight={weight}, value={value})\")"
      ]
    },
    {
      "cell_type": "code",
      "source": [
        "#Dict instad of list to store items\n",
        "\n",
        "\"\"\"items stored as dictionary {item: (weight, value)}\"\"\"\n",
        "items = {\"Book\": (2, 3), \"Water\": (3, 4), \"Food\": (4, 5), \"Clothes\": (5, 6)}\n",
        "capacity = 8\n",
        "print(f\"Items: {[(name, f'w={w}, v={v}') for name, (w, v) in items.items()]}\")\n",
        "print(f\"Knapsack capacity: {capacity}\\n\")\n",
        "\n",
        "names = list(items.keys())\n",
        "weights = [items[n][0] for n in names]\n",
        "values = [items[n][1] for n in names]\n",
        "n = len(names)\n",
        "dp = [[0 for _ in range(capacity + 1)] for _ in range(n + 1)]\n",
        "for i in range(1, n + 1):\n",
        "  weight, value = weights[i-1], values[i-1]\n",
        "  for w in range(capacity + 1):\n",
        "    if weight <= w:\n",
        "      dp[i][w] = max(dp[i-1][w], dp[i-1][w-weight] + value)\n",
        "    else:\n",
        "      dp[i][w] = dp[i-1][w]\n",
        "\n",
        "selected = []\n",
        "w = capacity\n",
        "for i in range(n, 0, -1):\n",
        "  if dp[i][w] != dp[i-1][w]:\n",
        "    selected.append((names[i-1], weights[i-1], values[i-1]))\n",
        "    w -= weights[i-1]\n",
        "\n",
        "print(f\"Optimal value: {dp[n][capacity]}\")\n",
        "print(\"Selected items:\")\n",
        "for name, weight, value in selected:\n",
        "  print(f\"  {name} (weight={weight}, value={value})\")"
      ],
      "metadata": {
        "colab": {
          "base_uri": "https://localhost:8080/"
        },
        "id": "bkEkdUftXVZM",
        "outputId": "9a81c101-62b7-486f-b5fd-83472e74a4a5"
      },
      "execution_count": 13,
      "outputs": [
        {
          "output_type": "stream",
          "name": "stdout",
          "text": [
            "Items: [('Book', 'w=2, v=3'), ('Water', 'w=3, v=4'), ('Food', 'w=4, v=5'), ('Clothes', 'w=5, v=6')]\n",
            "Knapsack capacity: 8\n",
            "\n",
            "Optimal value: 10\n",
            "Selected items:\n",
            "  Clothes (weight=5, value=6)\n",
            "  Water (weight=3, value=4)\n"
          ]
        }
      ]
    },
    {
      "cell_type": "code",
      "source": [
        "random.seed(10)\n",
        "items = [(f\"Item{i+1}\", random.randint(1, 15), random.randint(10, 100)) for i in range(20)]\n",
        "capacity = 50\n",
        "print(f\"Number of items: {len(items)}\")\n",
        "print(f\"Knapsack capacity: {capacity}\")\n",
        "print(\"\\nItems (name, weight, value):\")\n",
        "for name, w, v in items:\n",
        "  print(f\"  {name}: weight={w}, value={v}\")\n",
        "\n",
        "n = len(items)\n",
        "dp = [[0 for _ in range(capacity + 1)] for _ in range(n + 1)]\n",
        "for i in range(1, n + 1):\n",
        "  name, weight, value = items[i-1]\n",
        "  for w in range(capacity + 1):\n",
        "    if weight <= w:\n",
        "      dp[i][w] = max(dp[i-1][w], dp[i-1][w-weight] + value)\n",
        "    else:\n",
        "      dp[i][w] = dp[i-1][w]\n",
        "\n",
        "selected = []\n",
        "w = capacity\n",
        "for i in range(n, 0, -1):\n",
        "  if dp[i][w] != dp[i-1][w]:\n",
        "    selected.append(items[i-1])\n",
        "    w -= items[i-1][1]\n",
        "\n",
        "print(f\"Optimal value: {dp[n][capacity]}\")\n",
        "print(\"Selected items:\")\n",
        "for name, weight, value in selected:\n",
        "  print(f\"  {name} (weight={weight}, value={value})\")"
      ],
      "metadata": {
        "colab": {
          "base_uri": "https://localhost:8080/"
        },
        "id": "ZoNY86LxUg-7",
        "outputId": "adab90a3-1b34-4317-ae69-af82ada51acf"
      },
      "execution_count": 14,
      "outputs": [
        {
          "output_type": "stream",
          "name": "stdout",
          "text": [
            "Number of items: 20\n",
            "Knapsack capacity: 50\n",
            "\n",
            "Items (name, weight, value):\n",
            "  Item1: weight=10, value=14\n",
            "  Item2: weight=7, value=71\n",
            "  Item3: weight=10, value=11\n",
            "  Item4: weight=4, value=69\n",
            "  Item5: weight=14, value=72\n",
            "  Item6: weight=14, value=45\n",
            "  Item7: weight=11, value=30\n",
            "  Item8: weight=1, value=76\n",
            "  Item9: weight=8, value=51\n",
            "  Item10: weight=2, value=41\n",
            "  Item11: weight=12, value=56\n",
            "  Item12: weight=1, value=63\n",
            "  Item13: weight=14, value=27\n",
            "  Item14: weight=10, value=55\n",
            "  Item15: weight=7, value=63\n",
            "  Item16: weight=5, value=96\n",
            "  Item17: weight=5, value=68\n",
            "  Item18: weight=3, value=97\n",
            "  Item19: weight=5, value=94\n",
            "  Item20: weight=6, value=27\n",
            "Optimal value: 793\n",
            "Selected items:\n",
            "  Item19 (weight=5, value=94)\n",
            "  Item18 (weight=3, value=97)\n",
            "  Item17 (weight=5, value=68)\n",
            "  Item16 (weight=5, value=96)\n",
            "  Item15 (weight=7, value=63)\n",
            "  Item14 (weight=10, value=55)\n",
            "  Item12 (weight=1, value=63)\n",
            "  Item10 (weight=2, value=41)\n",
            "  Item8 (weight=1, value=76)\n",
            "  Item4 (weight=4, value=69)\n",
            "  Item2 (weight=7, value=71)\n"
          ]
        }
      ]
    }
  ]
}