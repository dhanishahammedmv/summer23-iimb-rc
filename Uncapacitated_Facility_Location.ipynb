{
  "nbformat": 4,
  "nbformat_minor": 0,
  "metadata": {
    "colab": {
      "provenance": []
    },
    "kernelspec": {
      "name": "python3",
      "display_name": "Python 3"
    },
    "language_info": {
      "name": "python"
    }
  },
  "cells": [
    {
      "cell_type": "markdown",
      "source": [
        "# Uncapacitated Facility Location (UFL)\n",
        "\n",
        "Given a set of potential depots $N = \\{1, \\ldots, n\\} $ and a set $M = \\{1, \\ldots, m\\} $ of clients, suppose there is a fixed cost $ f_j $ associated with the use of depot $j $, and a transportation cost $c_{ij} $ if all of client $i$'s order is delivered from depot $j$. The problem is to decide which depots to open, and which depot serves each client so as to minimize the sum of the fixed and transportation costs. Note that this problem is similar to the covering problem, except for the addition of the variable transportation costs.\n",
        "\n",
        "## Decision Variables\n",
        "\n",
        "- $y_j = 1 $ if depot $ j $ is used (opened), and $ y_j = 0 $ otherwise (fixed cost/depot opening variable)\n",
        "- $ x_{ij} $ is the fraction of the demand of client $ i $ satisfied from depot $ j $\n",
        "\n",
        "## Constraints\n",
        "\n",
        "1. Satisfaction of the demand of each client:\n",
        "\n",
        "$$\n",
        "\\sum_{j=1}^{n} x_{ij} = 1 \\quad \\text{for } i = 1, \\ldots, m.\n",
        "$$\n",
        "\n",
        "2. Linking constraints between \\( x_{ij} \\) and \\( y_j \\) variables:\n",
        "\n",
        "$$\n",
        "\\sum_{i=1}^{m} x_{ij} \\leq m y_j \\quad \\text{for } j = 1, \\ldots, n.\n",
        "$$\n",
        "\n",
        "(Note: $ \\sum_{i \\in M} x_{ij} \\leq m $ and we use this to formulate the fixed cost constraint)\n",
        "\n",
        "3. Variable domain constraints:\n",
        "\n",
        "$$\n",
        "y_j \\in \\{0, 1\\} \\quad \\text{for } j = 1, \\ldots, n.\n",
        "$$\n",
        "\n",
        "$$\n",
        "x_{ij} \\geq 0 \\quad \\text{for } i = 1, \\ldots, m, \\quad j = 1, \\ldots, n.\n",
        "$$\n",
        "\n",
        "## Objective Function\n",
        "\n",
        "Minimize the sum of fixed costs and transportation costs:\n",
        "\n",
        "$$\n",
        "\\min \\sum_{j=1}^{n} f_j y_j + \\sum_{i=1}^{m} \\sum_{j=1}^{n} c_{ij} x_{ij}.\n",
        "$$\n",
        "\n",
        "## Complete MIP Formulation\n",
        "\n",
        "$$\n",
        "\\begin{aligned}\n",
        "& \\min \\sum_{j=1}^{n} f_j y_j + \\sum_{i=1}^{m} \\sum_{j=1}^{n} c_{ij} x_{ij} \\\\\n",
        "& \\text{subject to:} \\\\\n",
        "& \\quad \\sum_{j=1}^{n} x_{ij} = 1, \\quad i = 1, \\ldots, m \\\\\n",
        "& \\quad \\sum_{i=1}^{m} x_{ij} \\leq m y_j, \\quad j = 1, \\ldots, n \\\\\n",
        "& \\quad y_j \\in \\{0, 1\\}, \\quad j = 1, \\ldots, n \\\\\n",
        "& \\quad x_{ij} \\geq 0, \\quad i = 1, \\ldots, m, \\quad j = 1, \\ldots, n\n",
        "\\end{aligned}\n",
        "$$\n"
      ],
      "metadata": {
        "id": "ibefedAShaMB"
      }
    },
    {
      "cell_type": "code",
      "execution_count": 1,
      "metadata": {
        "colab": {
          "base_uri": "https://localhost:8080/"
        },
        "id": "Hvmsf6Vcf3Dz",
        "outputId": "c5743776-39ae-4a86-f2e6-fa2dc01d42d2"
      },
      "outputs": [
        {
          "output_type": "stream",
          "name": "stdout",
          "text": [
            "Collecting gurobipy\n",
            "  Downloading gurobipy-12.0.3-cp312-cp312-manylinux2014_x86_64.manylinux_2_17_x86_64.whl.metadata (16 kB)\n",
            "Downloading gurobipy-12.0.3-cp312-cp312-manylinux2014_x86_64.manylinux_2_17_x86_64.whl (14.3 MB)\n",
            "\u001b[2K   \u001b[90m━━━━━━━━━━━━━━━━━━━━━━━━━━━━━━━━━━━━━━━━\u001b[0m \u001b[32m14.3/14.3 MB\u001b[0m \u001b[31m42.1 MB/s\u001b[0m eta \u001b[36m0:00:00\u001b[0m\n",
            "\u001b[?25hInstalling collected packages: gurobipy\n",
            "Successfully installed gurobipy-12.0.3\n"
          ]
        }
      ],
      "source": [
        "!pip install gurobipy"
      ]
    },
    {
      "cell_type": "code",
      "source": [
        "import gurobipy as gp\n",
        "from gurobipy import GRB\n",
        "import random"
      ],
      "metadata": {
        "id": "hKmkpYF9gWXy"
      },
      "execution_count": 2,
      "outputs": []
    },
    {
      "cell_type": "code",
      "source": [
        "facilities = [\"F1\", \"F2\", \"F3\"]\n",
        "customers = [\"C1\", \"C2\", \"C3\"]\n",
        "fixed_costs = {\"F1\": 100, \"F2\": 120, \"F3\": 150}\n",
        "transport_costs = {\n",
        "    \"F1\": {\"C1\": 10, \"C2\": 20, \"C3\": 15},\n",
        "    \"F2\": {\"C1\": 25, \"C2\": 30, \"C3\": 5},\n",
        "    \"F3\": {\"C1\": 15, \"C2\": 10, \"C3\": 20},\n",
        "}\n",
        "\n",
        "model = gp.Model(\"FacilityLocation_Small\")\n",
        "# Variables\n",
        "y = model.addVars(facilities, vtype=GRB.BINARY, name=\"Open\")\n",
        "x = model.addVars(customers, facilities, vtype=GRB.BINARY, name=\"Assign\")\n",
        "# Objective\n",
        "model.setObjective(\n",
        "    gp.quicksum(fixed_costs[f] * y[f] for f in facilities) +\n",
        "    gp.quicksum(transport_costs[f][c] * x[c, f] for f in facilities for c in customers),\n",
        "    GRB.MINIMIZE\n",
        ")\n",
        "# Constraints\n",
        "for c in customers:\n",
        "  model.addConstr(gp.quicksum(x[c, f] for f in facilities) == 1, name=f\"Assign_{c}\")\n",
        "  for f in facilities:\n",
        "    model.addConstr(x[c, f] <= y[f], name=f\"Link_{c}_{f}\")\n",
        "model.optimize()\n",
        "\n",
        "print(\"Opened facilities:\")\n",
        "for f in facilities:\n",
        "  if y[f].X > 0.5:\n",
        "    print(\" \", f)\n",
        "print(\"Assignments:\")\n",
        "for c in customers:\n",
        "  for f in facilities:\n",
        "    if x[c, f].X > 0.5:\n",
        "      print(f\"  Customer {c} → {f} (cost {transport_costs[f][c]})\")\n",
        "print(\"Total cost:\", model.ObjVal, \"\\n\")"
      ],
      "metadata": {
        "colab": {
          "base_uri": "https://localhost:8080/"
        },
        "id": "JwfxRtXzgUne",
        "outputId": "9e0dd266-fc32-4a1b-f616-eb6ef1ea870b"
      },
      "execution_count": 3,
      "outputs": [
        {
          "output_type": "stream",
          "name": "stdout",
          "text": [
            "Restricted license - for non-production use only - expires 2026-11-23\n",
            "Gurobi Optimizer version 12.0.3 build v12.0.3rc0 (linux64 - \"Ubuntu 22.04.4 LTS\")\n",
            "\n",
            "CPU model: Intel(R) Xeon(R) CPU @ 2.20GHz, instruction set [SSE2|AVX|AVX2]\n",
            "Thread count: 1 physical cores, 2 logical processors, using up to 2 threads\n",
            "\n",
            "Optimize a model with 12 rows, 12 columns and 27 nonzeros\n",
            "Model fingerprint: 0x107e3ce8\n",
            "Variable types: 0 continuous, 12 integer (12 binary)\n",
            "Coefficient statistics:\n",
            "  Matrix range     [1e+00, 1e+00]\n",
            "  Objective range  [5e+00, 2e+02]\n",
            "  Bounds range     [1e+00, 1e+00]\n",
            "  RHS range        [1e+00, 1e+00]\n",
            "Found heuristic solution: objective 305.0000000\n",
            "Presolve removed 5 rows and 5 columns\n",
            "Presolve time: 0.00s\n",
            "Presolved: 7 rows, 7 columns, 17 nonzeros\n",
            "Found heuristic solution: objective 290.0000000\n",
            "Variable types: 0 continuous, 7 integer (7 binary)\n",
            "Found heuristic solution: objective 285.0000000\n",
            "\n",
            "Root relaxation: objective 1.450000e+02, 5 iterations, 0.00 seconds (0.00 work units)\n",
            "\n",
            "    Nodes    |    Current Node    |     Objective Bounds      |     Work\n",
            " Expl Unexpl |  Obj  Depth IntInf | Incumbent    BestBd   Gap | It/Node Time\n",
            "\n",
            "*    0     0               0     145.0000000  145.00000  0.00%     -    0s\n",
            "\n",
            "Explored 1 nodes (5 simplex iterations) in 0.01 seconds (0.00 work units)\n",
            "Thread count was 2 (of 2 available processors)\n",
            "\n",
            "Solution count 4: 145 285 290 305 \n",
            "\n",
            "Optimal solution found (tolerance 1.00e-04)\n",
            "Best objective 1.450000000000e+02, best bound 1.450000000000e+02, gap 0.0000%\n",
            "Opened facilities:\n",
            "  F1\n",
            "Assignments:\n",
            "  Customer C1 → F1 (cost 10)\n",
            "  Customer C2 → F1 (cost 20)\n",
            "  Customer C3 → F1 (cost 15)\n",
            "Total cost: 145.0 \n",
            "\n"
          ]
        }
      ]
    },
    {
      "cell_type": "code",
      "source": [
        "random.seed(10)\n",
        "facilities = [f\"F{i+1}\" for i in range(5)]\n",
        "customers = [f\"C{j+1}\" for j in range(8)]\n",
        "fixed_costs = {f: random.randint(50, 150) for f in facilities}\n",
        "transport_costs = {f: {c: random.randint(5, 40) for c in customers} for f in facilities}\n",
        "model = gp.Model(\"FacilityLocation_Random\")\n",
        "y = model.addVars(facilities, vtype=GRB.BINARY, name=\"Open\")\n",
        "x = model.addVars(customers, facilities, vtype=GRB.BINARY, name=\"Assign\")\n",
        "model.setObjective(\n",
        "    gp.quicksum(fixed_costs[f] * y[f] for f in facilities) +\n",
        "    gp.quicksum(transport_costs[f][c] * x[c, f] for f in facilities for c in customers),\n",
        "    GRB.MINIMIZE\n",
        ")\n",
        "for c in customers:\n",
        "  model.addConstr(gp.quicksum(x[c, f] for f in facilities) == 1, name=f\"Assign_{c}\")\n",
        "  for f in facilities:\n",
        "    model.addConstr(x[c, f] <= y[f], name=f\"Link_{c}_{f}\")\n",
        "model.optimize()\n",
        "\n",
        "print(\"Facilities fixed costs:\", fixed_costs)\n",
        "print(\"Opened facilities:\")\n",
        "for f in facilities:\n",
        "  if y[f].X > 0.5:\n",
        "    print(\" \", f)\n",
        "\n",
        "print(\"Assignments:\")\n",
        "for c in customers:\n",
        "  for f in facilities:\n",
        "    if x[c, f].X > 0.5:\n",
        "      print(f\"  Customer {c} → {f} (cost {transport_costs[f][c]})\")\n",
        "print(\"Total cost:\", model.ObjVal)"
      ],
      "metadata": {
        "colab": {
          "base_uri": "https://localhost:8080/"
        },
        "id": "YvCPYB41f-Xb",
        "outputId": "d8fe0df6-e8b0-4519-e064-647b79d9de03"
      },
      "execution_count": 4,
      "outputs": [
        {
          "output_type": "stream",
          "name": "stdout",
          "text": [
            "Gurobi Optimizer version 12.0.3 build v12.0.3rc0 (linux64 - \"Ubuntu 22.04.4 LTS\")\n",
            "\n",
            "CPU model: Intel(R) Xeon(R) CPU @ 2.20GHz, instruction set [SSE2|AVX|AVX2]\n",
            "Thread count: 1 physical cores, 2 logical processors, using up to 2 threads\n",
            "\n",
            "Optimize a model with 48 rows, 45 columns and 120 nonzeros\n",
            "Model fingerprint: 0x99869c9a\n",
            "Variable types: 0 continuous, 45 integer (45 binary)\n",
            "Coefficient statistics:\n",
            "  Matrix range     [1e+00, 1e+00]\n",
            "  Objective range  [5e+00, 1e+02]\n",
            "  Bounds range     [1e+00, 1e+00]\n",
            "  RHS range        [1e+00, 1e+00]\n",
            "Found heuristic solution: objective 627.0000000\n",
            "Presolve time: 0.00s\n",
            "Presolved: 48 rows, 45 columns, 120 nonzeros\n",
            "Variable types: 0 continuous, 45 integer (45 binary)\n",
            "\n",
            "Root relaxation: objective 2.230000e+02, 29 iterations, 0.00 seconds (0.00 work units)\n",
            "\n",
            "    Nodes    |    Current Node    |     Objective Bounds      |     Work\n",
            " Expl Unexpl |  Obj  Depth IntInf | Incumbent    BestBd   Gap | It/Node Time\n",
            "\n",
            "*    0     0               0     223.0000000  223.00000  0.00%     -    0s\n",
            "\n",
            "Explored 1 nodes (29 simplex iterations) in 0.01 seconds (0.00 work units)\n",
            "Thread count was 2 (of 2 available processors)\n",
            "\n",
            "Solution count 2: 223 627 \n",
            "\n",
            "Optimal solution found (tolerance 1.00e-04)\n",
            "Best objective 2.230000000000e+02, best bound 2.230000000000e+02, gap 0.0000%\n",
            "Facilities fixed costs: {'F1': 123, 'F2': 54, 'F3': 104, 'F4': 111, 'F5': 123}\n",
            "Opened facilities:\n",
            "  F2\n",
            "Assignments:\n",
            "  Customer C1 → F2 (cost 36)\n",
            "  Customer C2 → F2 (cost 25)\n",
            "  Customer C3 → F2 (cost 9)\n",
            "  Customer C4 → F2 (cost 20)\n",
            "  Customer C5 → F2 (cost 28)\n",
            "  Customer C6 → F2 (cost 7)\n",
            "  Customer C7 → F2 (cost 31)\n",
            "  Customer C8 → F2 (cost 13)\n",
            "Total cost: 223.0\n"
          ]
        }
      ]
    }
  ]
}