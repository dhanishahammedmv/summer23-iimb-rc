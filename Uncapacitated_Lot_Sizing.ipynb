{
  "nbformat": 4,
  "nbformat_minor": 0,
  "metadata": {
    "colab": {
      "provenance": []
    },
    "kernelspec": {
      "name": "python3",
      "display_name": "Python 3"
    },
    "language_info": {
      "name": "python"
    }
  },
  "cells": [
    {
      "cell_type": "markdown",
      "source": [
        "# Uncapacitated Lot-Sizing (ULS)\n",
        "\n",
        "The problem is to decide on a production plan for an \\( n \\)-period horizon for a single product. The basic model can be viewed as having data:\n",
        "\n",
        "- \\( f_t \\) is the fixed cost of producing in period \\( t \\)\n",
        "- \\( p_t \\) is the unit production cost in period \\( t \\)\n",
        "- \\( h_t \\) is the unit storage cost in period \\( t \\)\n",
        "- \\( d_t \\) is the demand in period \\( t \\)\n",
        "\n",
        "## Decision Variables\n",
        "\n",
        "- \\( x_t \\) is the amount produced in period \\( t \\)\n",
        "- \\( s_t \\) is the stock at the end of period \\( t \\)\n",
        "- \\( y_t = 1 \\) if production occurs in period \\( t \\), and \\( y_t = 0 \\) otherwise\n",
        "\n",
        "To handle the fixed costs, we observe that a priori no upper bound is given on \\( x_t \\). Thus we either must use a very large value \\( M \\), or calculate an upper bound based on the problem data.\n",
        "\n",
        "## Constraints\n",
        "\n",
        "1. Inventory balance constraints:\n",
        "\n",
        "$$\n",
        "s_{t-1} + x_t = d_t + s_t \\quad \\text{for } t = 1, \\ldots, n\n",
        "$$\n",
        "\n",
        "2. Production setup constraints:\n",
        "\n",
        "$$\n",
        "x_t \\leq M y_t \\quad \\text{for } t = 1, \\ldots, n\n",
        "$$\n",
        "\n",
        "where \\( M \\) is a sufficiently large number (e.g., \\( M = \\sum_{i=1}^{n} d_i \\))\n",
        "\n",
        "3. Variable domain constraints:\n",
        "\n",
        "$$\n",
        "s_0 = 0, \\quad s_t, x_t \\geq 0, \\quad y_t \\in \\{0, 1\\} \\quad \\text{for } t = 1, \\ldots, n\n",
        "$$\n",
        "\n",
        "## Objective Function\n",
        "\n",
        "Minimize the total cost (production, storage, and fixed costs):\n",
        "\n",
        "$$\n",
        "\\min \\sum_{t=1}^{n} p_t x_t + \\sum_{t=1}^{n} h_t s_t + \\sum_{t=1}^{n} f_t y_t\n",
        "$$\n",
        "\n",
        "## Complete MIP Formulation\n",
        "\n",
        "$$\n",
        "\\begin{aligned}\n",
        "& \\min \\sum_{t=1}^{n} p_t x_t + \\sum_{t=1}^{n} h_t s_t + \\sum_{t=1}^{n} f_t y_t \\\\\n",
        "& \\text{subject to:} \\\\\n",
        "& \\quad s_{t-1} + x_t = d_t + s_t, \\quad t = 1, \\ldots, n \\\\\n",
        "& \\quad x_t \\leq M y_t, \\quad t = 1, \\ldots, n \\\\\n",
        "& \\quad s_0 = 0 \\\\\n",
        "& \\quad s_t, x_t \\geq 0, \\quad t = 1, \\ldots, n \\\\\n",
        "& \\quad y_t \\in \\{0, 1\\}, \\quad t = 1, \\ldots, n\n",
        "\\end{aligned}\n",
        "$$\n",
        "\n",
        "## Tightened Formulation\n",
        "\n",
        "If we impose that \\( s_n = 0 \\), then we can tighten the variable upper bound constraints to:\n",
        "\n",
        "$$\n",
        "x_t \\leq \\left(\\sum_{i=t}^{n} d_i\\right) y_t \\quad \\text{for } t = 1, \\ldots, n\n",
        "$$\n",
        "\n",
        "Note also that by substituting\n",
        "\n",
        "$\n",
        "s_t = \\sum_{i=1}^{t} x_i - \\sum_{i=1}^{t} d_i,\n",
        "$\n",
        "\n",
        "the objective function can be rewritten as:\n",
        "\n",
        "$$\n",
        "\\sum_{t=1}^{n} c_t x_t + \\sum_{t=1}^{n} f_t y_t - K\n",
        "$$\n",
        "\n",
        "where\n",
        "\n",
        "\\begin{align*}\n",
        "c_t = p_t + h_t + \\ldots + h_n\n",
        "\\end{align*}\n",
        "\n",
        "and the constant\n",
        "\n",
        "\\begin{align*}\n",
        "K = \\sum_{t=1}^{n} h_t \\left(\\sum_{i=1}^{t} d_i \\right).\n",
        "\\end{align*}\n"
      ],
      "metadata": {
        "id": "W8FmhWLdjR53"
      }
    },
    {
      "cell_type": "code",
      "execution_count": 1,
      "metadata": {
        "colab": {
          "base_uri": "https://localhost:8080/"
        },
        "id": "TZAXTdemiTHj",
        "outputId": "077f6c64-c2c4-4781-8584-4d0cf3cb44ad"
      },
      "outputs": [
        {
          "output_type": "stream",
          "name": "stdout",
          "text": [
            "Collecting gurobipy\n",
            "  Downloading gurobipy-12.0.3-cp312-cp312-manylinux2014_x86_64.manylinux_2_17_x86_64.whl.metadata (16 kB)\n",
            "Downloading gurobipy-12.0.3-cp312-cp312-manylinux2014_x86_64.manylinux_2_17_x86_64.whl (14.3 MB)\n",
            "\u001b[2K   \u001b[90m━━━━━━━━━━━━━━━━━━━━━━━━━━━━━━━━━━━━━━━━\u001b[0m \u001b[32m14.3/14.3 MB\u001b[0m \u001b[31m35.2 MB/s\u001b[0m eta \u001b[36m0:00:00\u001b[0m\n",
            "\u001b[?25hInstalling collected packages: gurobipy\n",
            "Successfully installed gurobipy-12.0.3\n"
          ]
        }
      ],
      "source": [
        "!pip install gurobipy"
      ]
    },
    {
      "cell_type": "code",
      "source": [
        "import gurobipy as gp\n",
        "from gurobipy import GRB\n",
        "import random"
      ],
      "metadata": {
        "id": "JgzN0xcoincg"
      },
      "execution_count": 2,
      "outputs": []
    },
    {
      "cell_type": "code",
      "source": [
        "T = 4   # number of periods\n",
        "demand = [20, 15, 25, 10]   # demand in each period\n",
        "prod_cost = [3, 2, 4, 3]    # unit production cost per period\n",
        "hold_cost = [1, 1, 1, 1]    # unit holding cost per period\n",
        "model = gp.Model(\"ULS_Small\")\n",
        "\"\"\"Variables\"\"\"\n",
        "x = model.addVars(T, name=\"Prod\")      # production in period t\n",
        "I = model.addVars(T, name=\"Inv\")       # inventory at end of period t\n",
        "\"\"\"Objective: Minimize production + holding costs\"\"\"\n",
        "model.setObjective(\n",
        "    gp.quicksum(prod_cost[t] * x[t] for t in range(T)) +\n",
        "    gp.quicksum(hold_cost[t] * I[t] for t in range(T)),\n",
        "    GRB.MINIMIZE\n",
        ")\n",
        "\"\"\"Constraints: inventory balance\"\"\"\n",
        "for t in range(T):\n",
        "  if t == 0:\n",
        "    model.addConstr(x[0] - I[0] == demand[0], name=f\"Bal_{t}\")\n",
        "  else:\n",
        "    model.addConstr(I[t-1] + x[t] - I[t] == demand[t], name=f\"Bal_{t}\")\n",
        "model.optimize()\n",
        "\n",
        "print(\"Production plan:\")\n",
        "for t in range(T):\n",
        "  print(f\"  Period {t+1}: Produce {x[t].X:.1f}, End Inv {I[t].X:.1f}\")\n",
        "print(\"Total cost:\", model.ObjVal, \"\\n\")"
      ],
      "metadata": {
        "colab": {
          "base_uri": "https://localhost:8080/"
        },
        "id": "rgzTtLp6il5F",
        "outputId": "121582de-6139-485d-dadb-df18e5564f1a"
      },
      "execution_count": 3,
      "outputs": [
        {
          "output_type": "stream",
          "name": "stdout",
          "text": [
            "Restricted license - for non-production use only - expires 2026-11-23\n",
            "Gurobi Optimizer version 12.0.3 build v12.0.3rc0 (linux64 - \"Ubuntu 22.04.4 LTS\")\n",
            "\n",
            "CPU model: Intel(R) Xeon(R) CPU @ 2.20GHz, instruction set [SSE2|AVX|AVX2]\n",
            "Thread count: 1 physical cores, 2 logical processors, using up to 2 threads\n",
            "\n",
            "Optimize a model with 4 rows, 8 columns and 11 nonzeros\n",
            "Model fingerprint: 0xdaee04f7\n",
            "Coefficient statistics:\n",
            "  Matrix range     [1e+00, 1e+00]\n",
            "  Objective range  [1e+00, 4e+00]\n",
            "  Bounds range     [0e+00, 0e+00]\n",
            "  RHS range        [1e+01, 2e+01]\n",
            "Presolve removed 4 rows and 8 columns\n",
            "Presolve time: 0.01s\n",
            "Presolve: All rows and columns removed\n",
            "Iteration    Objective       Primal Inf.    Dual Inf.      Time\n",
            "       0    1.9500000e+02   0.000000e+00   0.000000e+00      0s\n",
            "\n",
            "Solved in 0 iterations and 0.01 seconds (0.00 work units)\n",
            "Optimal objective  1.950000000e+02\n",
            "Production plan:\n",
            "  Period 1: Produce 20.0, End Inv 0.0\n",
            "  Period 2: Produce 40.0, End Inv 25.0\n",
            "  Period 3: Produce 0.0, End Inv 0.0\n",
            "  Period 4: Produce 10.0, End Inv 0.0\n",
            "Total cost: 195.0 \n",
            "\n"
          ]
        }
      ]
    },
    {
      "cell_type": "code",
      "source": [
        "\"\"\"DICT\"\"\"\n",
        "data = {\n",
        "    \"periods\": [1, 2, 3],\n",
        "    \"demand\": {1: 12, 2: 18, 3: 10},\n",
        "    \"prod_cost\": {1: 2, 2: 3, 3: 2},\n",
        "    \"hold_cost\": {1: 1, 2: 1, 3: 1},\n",
        "}\n",
        "T = len(data[\"periods\"])\n",
        "model = gp.Model(\"ULS_Dict\")\n",
        "x = model.addVars(data[\"periods\"], name=\"Prod\")\n",
        "I = model.addVars(data[\"periods\"], name=\"Inv\")\n",
        "model.setObjective(\n",
        "    gp.quicksum(data[\"prod_cost\"][t] * x[t] for t in data[\"periods\"]) +\n",
        "    gp.quicksum(data[\"hold_cost\"][t] * I[t] for t in data[\"periods\"]),\n",
        "    GRB.MINIMIZE\n",
        ")\n",
        "for t in data[\"periods\"]:\n",
        "  if t == 1:\n",
        "    model.addConstr(x[t] - I[t] == data[\"demand\"][t], name=f\"Bal_{t}\")\n",
        "  else:\n",
        "    model.addConstr(I[t-1] + x[t] - I[t] == data[\"demand\"][t], name=f\"Bal_{t}\")\n",
        "model.optimize()\n",
        "\n",
        "print(\"Production plan:\")\n",
        "for t in data[\"periods\"]:\n",
        "  print(f\"  Period {t}: Produce {x[t].X:.1f}, End Inv {I[t].X:.1f}\")\n",
        "print(\"Total cost:\", model.ObjVal, \"\\n\")"
      ],
      "metadata": {
        "colab": {
          "base_uri": "https://localhost:8080/"
        },
        "id": "ZKuks844ihK8",
        "outputId": "1bdd9553-d0f2-46a6-fcea-3598e0f9690c"
      },
      "execution_count": 4,
      "outputs": [
        {
          "output_type": "stream",
          "name": "stdout",
          "text": [
            "Gurobi Optimizer version 12.0.3 build v12.0.3rc0 (linux64 - \"Ubuntu 22.04.4 LTS\")\n",
            "\n",
            "CPU model: Intel(R) Xeon(R) CPU @ 2.20GHz, instruction set [SSE2|AVX|AVX2]\n",
            "Thread count: 1 physical cores, 2 logical processors, using up to 2 threads\n",
            "\n",
            "Optimize a model with 3 rows, 6 columns and 8 nonzeros\n",
            "Model fingerprint: 0x9dacd5f1\n",
            "Coefficient statistics:\n",
            "  Matrix range     [1e+00, 1e+00]\n",
            "  Objective range  [1e+00, 3e+00]\n",
            "  Bounds range     [0e+00, 0e+00]\n",
            "  RHS range        [1e+01, 2e+01]\n",
            "Presolve removed 3 rows and 6 columns\n",
            "Presolve time: 0.01s\n",
            "Presolve: All rows and columns removed\n",
            "Iteration    Objective       Primal Inf.    Dual Inf.      Time\n",
            "       0    9.8000000e+01   0.000000e+00   0.000000e+00      0s\n",
            "\n",
            "Solved in 0 iterations and 0.01 seconds (0.00 work units)\n",
            "Optimal objective  9.800000000e+01\n",
            "Production plan:\n",
            "  Period 1: Produce 12.0, End Inv 0.0\n",
            "  Period 2: Produce 18.0, End Inv 0.0\n",
            "  Period 3: Produce 10.0, End Inv 0.0\n",
            "Total cost: 98.0 \n",
            "\n"
          ]
        }
      ]
    },
    {
      "cell_type": "code",
      "source": [
        "random.seed(123)\n",
        "T = 8\n",
        "demand = [random.randint(10, 30) for _ in range(T)]\n",
        "prod_cost = [random.randint(2, 5) for _ in range(T)]\n",
        "hold_cost = [1 for _ in range(T)]   # constant holding cost\n",
        "model = gp.Model(\"ULS_Random\")\n",
        "x = model.addVars(T, name=\"Prod\")\n",
        "I = model.addVars(T, name=\"Inv\")\n",
        "model.setObjective(\n",
        "    gp.quicksum(prod_cost[t] * x[t] for t in range(T)) +\n",
        "    gp.quicksum(hold_cost[t] * I[t] for t in range(T)),\n",
        "    GRB.MINIMIZE\n",
        ")\n",
        "for t in range(T):\n",
        "  if t == 0:\n",
        "    model.addConstr(x[0] - I[0] == demand[0], name=f\"Bal_{t}\")\n",
        "  else:\n",
        "    model.addConstr(I[t-1] + x[t] - I[t] == demand[t], name=f\"Bal_{t}\")\n",
        "model.optimize()\n",
        "\n",
        "print(\"Demands:\", demand)\n",
        "print(\"Production costs:\", prod_cost)\n",
        "print(\"Production plan:\")\n",
        "for t in range(T):\n",
        "  print(f\"  Period {t+1}: Produce {x[t].X:.1f}, End Inv {I[t].X:.1f}\")\n",
        "\n",
        "print(\"Total cost:\", model.ObjVal)"
      ],
      "metadata": {
        "colab": {
          "base_uri": "https://localhost:8080/"
        },
        "id": "G2sI0i-SjIfX",
        "outputId": "e67eaab1-0587-4baa-a6ea-65c880a31cd9"
      },
      "execution_count": 5,
      "outputs": [
        {
          "output_type": "stream",
          "name": "stdout",
          "text": [
            "Gurobi Optimizer version 12.0.3 build v12.0.3rc0 (linux64 - \"Ubuntu 22.04.4 LTS\")\n",
            "\n",
            "CPU model: Intel(R) Xeon(R) CPU @ 2.20GHz, instruction set [SSE2|AVX|AVX2]\n",
            "Thread count: 1 physical cores, 2 logical processors, using up to 2 threads\n",
            "\n",
            "Optimize a model with 8 rows, 16 columns and 23 nonzeros\n",
            "Model fingerprint: 0x408c789d\n",
            "Coefficient statistics:\n",
            "  Matrix range     [1e+00, 1e+00]\n",
            "  Objective range  [1e+00, 4e+00]\n",
            "  Bounds range     [0e+00, 0e+00]\n",
            "  RHS range        [1e+01, 2e+01]\n",
            "Presolve removed 8 rows and 16 columns\n",
            "Presolve time: 0.01s\n",
            "Presolve: All rows and columns removed\n",
            "Iteration    Objective       Primal Inf.    Dual Inf.      Time\n",
            "       0    4.2500000e+02   0.000000e+00   0.000000e+00      0s\n",
            "\n",
            "Solved in 0 iterations and 0.01 seconds (0.00 work units)\n",
            "Optimal objective  4.250000000e+02\n",
            "Demands: [11, 18, 12, 23, 18, 13, 11, 22]\n",
            "Production costs: [4, 4, 2, 3, 3, 4, 4, 3]\n",
            "Production plan:\n",
            "  Period 1: Produce 11.0, End Inv 0.0\n",
            "  Period 2: Produce 18.0, End Inv 0.0\n",
            "  Period 3: Produce 35.0, End Inv 23.0\n",
            "  Period 4: Produce 0.0, End Inv 0.0\n",
            "  Period 5: Produce 31.0, End Inv 13.0\n",
            "  Period 6: Produce 0.0, End Inv 0.0\n",
            "  Period 7: Produce 11.0, End Inv 0.0\n",
            "  Period 8: Produce 22.0, End Inv 0.0\n",
            "Total cost: 425.0\n"
          ]
        }
      ]
    }
  ]
}